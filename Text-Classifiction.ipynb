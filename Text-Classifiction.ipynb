{
 "cells": [
  {
   "cell_type": "code",
   "id": "initial_id",
   "metadata": {
    "collapsed": true,
    "ExecuteTime": {
     "end_time": "2025-02-06T19:52:08.651790Z",
     "start_time": "2025-02-06T19:52:01.938646Z"
    }
   },
   "source": [
    "import pandas as pd\n",
    "from setuptools.dist import sequence\n",
    "\n",
    "books=pd.read_csv('books_cleaned.csv')"
   ],
   "outputs": [],
   "execution_count": 2
  },
  {
   "metadata": {
    "ExecuteTime": {
     "end_time": "2025-02-06T19:52:10.970595Z",
     "start_time": "2025-02-06T19:52:10.879837Z"
    }
   },
   "cell_type": "code",
   "source": "books['categories'].value_counts().reset_index()",
   "id": "5676d56b0759de8e",
   "outputs": [
    {
     "data": {
      "text/plain": [
       "                    categories  count\n",
       "0                      Fiction   2111\n",
       "1             Juvenile Fiction    390\n",
       "2    Biography & Autobiography    311\n",
       "3                      History    207\n",
       "4           Literary Criticism    124\n",
       "..                         ...    ...\n",
       "474               Conspiracies      1\n",
       "475       Brothers and sisters      1\n",
       "476             Rock musicians      1\n",
       "477             Community life      1\n",
       "478    Indic fiction (English)      1\n",
       "\n",
       "[479 rows x 2 columns]"
      ],
      "text/html": [
       "<div>\n",
       "<style scoped>\n",
       "    .dataframe tbody tr th:only-of-type {\n",
       "        vertical-align: middle;\n",
       "    }\n",
       "\n",
       "    .dataframe tbody tr th {\n",
       "        vertical-align: top;\n",
       "    }\n",
       "\n",
       "    .dataframe thead th {\n",
       "        text-align: right;\n",
       "    }\n",
       "</style>\n",
       "<table border=\"1\" class=\"dataframe\">\n",
       "  <thead>\n",
       "    <tr style=\"text-align: right;\">\n",
       "      <th></th>\n",
       "      <th>categories</th>\n",
       "      <th>count</th>\n",
       "    </tr>\n",
       "  </thead>\n",
       "  <tbody>\n",
       "    <tr>\n",
       "      <th>0</th>\n",
       "      <td>Fiction</td>\n",
       "      <td>2111</td>\n",
       "    </tr>\n",
       "    <tr>\n",
       "      <th>1</th>\n",
       "      <td>Juvenile Fiction</td>\n",
       "      <td>390</td>\n",
       "    </tr>\n",
       "    <tr>\n",
       "      <th>2</th>\n",
       "      <td>Biography &amp; Autobiography</td>\n",
       "      <td>311</td>\n",
       "    </tr>\n",
       "    <tr>\n",
       "      <th>3</th>\n",
       "      <td>History</td>\n",
       "      <td>207</td>\n",
       "    </tr>\n",
       "    <tr>\n",
       "      <th>4</th>\n",
       "      <td>Literary Criticism</td>\n",
       "      <td>124</td>\n",
       "    </tr>\n",
       "    <tr>\n",
       "      <th>...</th>\n",
       "      <td>...</td>\n",
       "      <td>...</td>\n",
       "    </tr>\n",
       "    <tr>\n",
       "      <th>474</th>\n",
       "      <td>Conspiracies</td>\n",
       "      <td>1</td>\n",
       "    </tr>\n",
       "    <tr>\n",
       "      <th>475</th>\n",
       "      <td>Brothers and sisters</td>\n",
       "      <td>1</td>\n",
       "    </tr>\n",
       "    <tr>\n",
       "      <th>476</th>\n",
       "      <td>Rock musicians</td>\n",
       "      <td>1</td>\n",
       "    </tr>\n",
       "    <tr>\n",
       "      <th>477</th>\n",
       "      <td>Community life</td>\n",
       "      <td>1</td>\n",
       "    </tr>\n",
       "    <tr>\n",
       "      <th>478</th>\n",
       "      <td>Indic fiction (English)</td>\n",
       "      <td>1</td>\n",
       "    </tr>\n",
       "  </tbody>\n",
       "</table>\n",
       "<p>479 rows × 2 columns</p>\n",
       "</div>"
      ]
     },
     "execution_count": 3,
     "metadata": {},
     "output_type": "execute_result"
    }
   ],
   "execution_count": 3
  },
  {
   "metadata": {
    "ExecuteTime": {
     "end_time": "2025-02-06T19:52:14.058343Z",
     "start_time": "2025-02-06T19:52:14.023436Z"
    }
   },
   "cell_type": "code",
   "source": "books['categories'].value_counts().reset_index().query(\"count > 50\")",
   "id": "af4dc534ec1538a6",
   "outputs": [
    {
     "data": {
      "text/plain": [
       "                   categories  count\n",
       "0                     Fiction   2111\n",
       "1            Juvenile Fiction    390\n",
       "2   Biography & Autobiography    311\n",
       "3                     History    207\n",
       "4          Literary Criticism    124\n",
       "5                  Philosophy    117\n",
       "6                    Religion    117\n",
       "7     Comics & Graphic Novels    116\n",
       "8                       Drama     86\n",
       "9         Juvenile Nonfiction     57\n",
       "10                    Science     56\n",
       "11                     Poetry     51"
      ],
      "text/html": [
       "<div>\n",
       "<style scoped>\n",
       "    .dataframe tbody tr th:only-of-type {\n",
       "        vertical-align: middle;\n",
       "    }\n",
       "\n",
       "    .dataframe tbody tr th {\n",
       "        vertical-align: top;\n",
       "    }\n",
       "\n",
       "    .dataframe thead th {\n",
       "        text-align: right;\n",
       "    }\n",
       "</style>\n",
       "<table border=\"1\" class=\"dataframe\">\n",
       "  <thead>\n",
       "    <tr style=\"text-align: right;\">\n",
       "      <th></th>\n",
       "      <th>categories</th>\n",
       "      <th>count</th>\n",
       "    </tr>\n",
       "  </thead>\n",
       "  <tbody>\n",
       "    <tr>\n",
       "      <th>0</th>\n",
       "      <td>Fiction</td>\n",
       "      <td>2111</td>\n",
       "    </tr>\n",
       "    <tr>\n",
       "      <th>1</th>\n",
       "      <td>Juvenile Fiction</td>\n",
       "      <td>390</td>\n",
       "    </tr>\n",
       "    <tr>\n",
       "      <th>2</th>\n",
       "      <td>Biography &amp; Autobiography</td>\n",
       "      <td>311</td>\n",
       "    </tr>\n",
       "    <tr>\n",
       "      <th>3</th>\n",
       "      <td>History</td>\n",
       "      <td>207</td>\n",
       "    </tr>\n",
       "    <tr>\n",
       "      <th>4</th>\n",
       "      <td>Literary Criticism</td>\n",
       "      <td>124</td>\n",
       "    </tr>\n",
       "    <tr>\n",
       "      <th>5</th>\n",
       "      <td>Philosophy</td>\n",
       "      <td>117</td>\n",
       "    </tr>\n",
       "    <tr>\n",
       "      <th>6</th>\n",
       "      <td>Religion</td>\n",
       "      <td>117</td>\n",
       "    </tr>\n",
       "    <tr>\n",
       "      <th>7</th>\n",
       "      <td>Comics &amp; Graphic Novels</td>\n",
       "      <td>116</td>\n",
       "    </tr>\n",
       "    <tr>\n",
       "      <th>8</th>\n",
       "      <td>Drama</td>\n",
       "      <td>86</td>\n",
       "    </tr>\n",
       "    <tr>\n",
       "      <th>9</th>\n",
       "      <td>Juvenile Nonfiction</td>\n",
       "      <td>57</td>\n",
       "    </tr>\n",
       "    <tr>\n",
       "      <th>10</th>\n",
       "      <td>Science</td>\n",
       "      <td>56</td>\n",
       "    </tr>\n",
       "    <tr>\n",
       "      <th>11</th>\n",
       "      <td>Poetry</td>\n",
       "      <td>51</td>\n",
       "    </tr>\n",
       "  </tbody>\n",
       "</table>\n",
       "</div>"
      ]
     },
     "execution_count": 4,
     "metadata": {},
     "output_type": "execute_result"
    }
   ],
   "execution_count": 4
  },
  {
   "metadata": {
    "ExecuteTime": {
     "end_time": "2025-02-06T19:52:19.222543Z",
     "start_time": "2025-02-06T19:52:19.204596Z"
    }
   },
   "cell_type": "code",
   "source": [
    "category_mapping={'Fiction':'Fiction',\n",
    "                  'juvenile fiction':\"Children's Fiction\",\n",
    "                  'Biography & Autobiography':'Nonfiction',\n",
    "                  'Science Fiction':'Nonfiction',\n",
    "                  'Mystery & Suspense':'Nonfiction',\n",
    "                  'Horror & Fantasy':'Nonfiction',\n",
    "                  'Romance':'Nonfiction',\n",
    "                  'Thriller & Suspense':'Nonfiction',\n",
    "                  'Historical Fiction':'Nonfiction',\n",
    "                  'Western':'Nonfiction',\n",
    "                  'Science & Technology':'Nonfiction',\n",
    "                  'History':'Nonfiction',\n",
    "                  'poetry':'Nonfiction',\n",
    "                  'Drama':'Fiction',\n",
    "                  'Comics & Graphic Novels':'Fiction',\n",
    "                  'juvenile Nonfiction':\"Children's Nonfiction\",}\n",
    "\n",
    "books['simple_categories']=books['categories'].map(category_mapping)"
   ],
   "id": "9106d84c5738b9c0",
   "outputs": [],
   "execution_count": 5
  },
  {
   "metadata": {
    "ExecuteTime": {
     "end_time": "2025-02-06T19:52:24.224178Z",
     "start_time": "2025-02-06T19:52:24.201239Z"
    }
   },
   "cell_type": "code",
   "source": "books['simple_categories'].value_counts()",
   "id": "ca0fd3df4517332c",
   "outputs": [
    {
     "data": {
      "text/plain": [
       "simple_categories\n",
       "Fiction       2313\n",
       "Nonfiction     518\n",
       "Name: count, dtype: int64"
      ]
     },
     "execution_count": 6,
     "metadata": {},
     "output_type": "execute_result"
    }
   ],
   "execution_count": 6
  },
  {
   "metadata": {
    "ExecuteTime": {
     "end_time": "2025-02-06T19:52:31.199358Z",
     "start_time": "2025-02-06T19:52:28.768635Z"
    }
   },
   "cell_type": "code",
   "source": [
    "from transformers import pipeline\n",
    "\n",
    "fiction_categories=[\"Fiction\",\"Nonfiction\"]\n",
    "\n",
    "pipe = pipeline(\"zero-shot-classification\", model=\"facebook/bart-large-mnli\")\n"
   ],
   "id": "2d1ca5b0cacf64a3",
   "outputs": [
    {
     "name": "stderr",
     "output_type": "stream",
     "text": [
      "None of PyTorch, TensorFlow >= 2.0, or Flax have been found. Models won't be available and only tokenizers, configuration and file/data utilities can be used.\n"
     ]
    },
    {
     "data": {
      "text/plain": [
       "config.json:   0%|          | 0.00/1.15k [00:00<?, ?B/s]"
      ],
      "application/vnd.jupyter.widget-view+json": {
       "version_major": 2,
       "version_minor": 0,
       "model_id": "951a5476ed624e24862bd2e537ff6e33"
      }
     },
     "metadata": {},
     "output_type": "display_data"
    },
    {
     "name": "stderr",
     "output_type": "stream",
     "text": [
      "C:\\Users\\Admin\\PycharmProjects\\LLM(Book-recomendor)\\.venv\\lib\\site-packages\\huggingface_hub\\file_download.py:140: UserWarning: `huggingface_hub` cache-system uses symlinks by default to efficiently store duplicated files but your machine does not support them in C:\\Users\\Admin\\.cache\\huggingface\\hub\\models--facebook--bart-large-mnli. Caching files will still work but in a degraded version that might require more space on your disk. This warning can be disabled by setting the `HF_HUB_DISABLE_SYMLINKS_WARNING` environment variable. For more details, see https://huggingface.co/docs/huggingface_hub/how-to-cache#limitations.\n",
      "To support symlinks on Windows, you either need to activate Developer Mode or to run Python as an administrator. In order to activate developer mode, see this article: https://docs.microsoft.com/en-us/windows/apps/get-started/enable-your-device-for-development\n",
      "  warnings.warn(message)\n"
     ]
    },
    {
     "ename": "RuntimeError",
     "evalue": "At least one of TensorFlow 2.0 or PyTorch should be installed. To install TensorFlow 2.0, read the instructions at https://www.tensorflow.org/install/ To install PyTorch, read the instructions at https://pytorch.org/.",
     "output_type": "error",
     "traceback": [
      "\u001B[1;31m---------------------------------------------------------------------------\u001B[0m",
      "\u001B[1;31mRuntimeError\u001B[0m                              Traceback (most recent call last)",
      "Cell \u001B[1;32mIn[7], line 5\u001B[0m\n\u001B[0;32m      1\u001B[0m \u001B[38;5;28;01mfrom\u001B[39;00m\u001B[38;5;250m \u001B[39m\u001B[38;5;21;01mtransformers\u001B[39;00m\u001B[38;5;250m \u001B[39m\u001B[38;5;28;01mimport\u001B[39;00m pipeline\n\u001B[0;32m      3\u001B[0m fiction_categories\u001B[38;5;241m=\u001B[39m[\u001B[38;5;124m\"\u001B[39m\u001B[38;5;124mFiction\u001B[39m\u001B[38;5;124m\"\u001B[39m,\u001B[38;5;124m\"\u001B[39m\u001B[38;5;124mNonfiction\u001B[39m\u001B[38;5;124m\"\u001B[39m]\n\u001B[1;32m----> 5\u001B[0m pipe \u001B[38;5;241m=\u001B[39m \u001B[43mpipeline\u001B[49m\u001B[43m(\u001B[49m\u001B[38;5;124;43m\"\u001B[39;49m\u001B[38;5;124;43mzero-shot-classification\u001B[39;49m\u001B[38;5;124;43m\"\u001B[39;49m\u001B[43m,\u001B[49m\u001B[43m \u001B[49m\u001B[43mmodel\u001B[49m\u001B[38;5;241;43m=\u001B[39;49m\u001B[38;5;124;43m\"\u001B[39;49m\u001B[38;5;124;43mfacebook/bart-large-mnli\u001B[39;49m\u001B[38;5;124;43m\"\u001B[39;49m\u001B[43m)\u001B[49m\n",
      "File \u001B[1;32m~\\PycharmProjects\\LLM(Book-recomendor)\\.venv\\lib\\site-packages\\transformers\\pipelines\\__init__.py:940\u001B[0m, in \u001B[0;36mpipeline\u001B[1;34m(task, model, config, tokenizer, feature_extractor, image_processor, processor, framework, revision, use_fast, token, device, device_map, torch_dtype, trust_remote_code, model_kwargs, pipeline_class, **kwargs)\u001B[0m\n\u001B[0;32m    938\u001B[0m \u001B[38;5;28;01mif\u001B[39;00m \u001B[38;5;28misinstance\u001B[39m(model, \u001B[38;5;28mstr\u001B[39m) \u001B[38;5;129;01mor\u001B[39;00m framework \u001B[38;5;129;01mis\u001B[39;00m \u001B[38;5;28;01mNone\u001B[39;00m:\n\u001B[0;32m    939\u001B[0m     model_classes \u001B[38;5;241m=\u001B[39m {\u001B[38;5;124m\"\u001B[39m\u001B[38;5;124mtf\u001B[39m\u001B[38;5;124m\"\u001B[39m: targeted_task[\u001B[38;5;124m\"\u001B[39m\u001B[38;5;124mtf\u001B[39m\u001B[38;5;124m\"\u001B[39m], \u001B[38;5;124m\"\u001B[39m\u001B[38;5;124mpt\u001B[39m\u001B[38;5;124m\"\u001B[39m: targeted_task[\u001B[38;5;124m\"\u001B[39m\u001B[38;5;124mpt\u001B[39m\u001B[38;5;124m\"\u001B[39m]}\n\u001B[1;32m--> 940\u001B[0m     framework, model \u001B[38;5;241m=\u001B[39m infer_framework_load_model(\n\u001B[0;32m    941\u001B[0m         model,\n\u001B[0;32m    942\u001B[0m         model_classes\u001B[38;5;241m=\u001B[39mmodel_classes,\n\u001B[0;32m    943\u001B[0m         config\u001B[38;5;241m=\u001B[39mconfig,\n\u001B[0;32m    944\u001B[0m         framework\u001B[38;5;241m=\u001B[39mframework,\n\u001B[0;32m    945\u001B[0m         task\u001B[38;5;241m=\u001B[39mtask,\n\u001B[0;32m    946\u001B[0m         \u001B[38;5;241m*\u001B[39m\u001B[38;5;241m*\u001B[39mhub_kwargs,\n\u001B[0;32m    947\u001B[0m         \u001B[38;5;241m*\u001B[39m\u001B[38;5;241m*\u001B[39mmodel_kwargs,\n\u001B[0;32m    948\u001B[0m     )\n\u001B[0;32m    950\u001B[0m model_config \u001B[38;5;241m=\u001B[39m model\u001B[38;5;241m.\u001B[39mconfig\n\u001B[0;32m    951\u001B[0m hub_kwargs[\u001B[38;5;124m\"\u001B[39m\u001B[38;5;124m_commit_hash\u001B[39m\u001B[38;5;124m\"\u001B[39m] \u001B[38;5;241m=\u001B[39m model\u001B[38;5;241m.\u001B[39mconfig\u001B[38;5;241m.\u001B[39m_commit_hash\n",
      "File \u001B[1;32m~\\PycharmProjects\\LLM(Book-recomendor)\\.venv\\lib\\site-packages\\transformers\\pipelines\\base.py:240\u001B[0m, in \u001B[0;36minfer_framework_load_model\u001B[1;34m(model, config, model_classes, task, framework, **model_kwargs)\u001B[0m\n\u001B[0;32m    214\u001B[0m \u001B[38;5;250m\u001B[39m\u001B[38;5;124;03m\"\"\"\u001B[39;00m\n\u001B[0;32m    215\u001B[0m \u001B[38;5;124;03mSelect framework (TensorFlow or PyTorch) to use from the `model` passed. Returns a tuple (framework, model).\u001B[39;00m\n\u001B[0;32m    216\u001B[0m \n\u001B[1;32m   (...)\u001B[0m\n\u001B[0;32m    237\u001B[0m \u001B[38;5;124;03m    `Tuple`: A tuple framework, model.\u001B[39;00m\n\u001B[0;32m    238\u001B[0m \u001B[38;5;124;03m\"\"\"\u001B[39;00m\n\u001B[0;32m    239\u001B[0m \u001B[38;5;28;01mif\u001B[39;00m \u001B[38;5;129;01mnot\u001B[39;00m is_tf_available() \u001B[38;5;129;01mand\u001B[39;00m \u001B[38;5;129;01mnot\u001B[39;00m is_torch_available():\n\u001B[1;32m--> 240\u001B[0m     \u001B[38;5;28;01mraise\u001B[39;00m \u001B[38;5;167;01mRuntimeError\u001B[39;00m(\n\u001B[0;32m    241\u001B[0m         \u001B[38;5;124m\"\u001B[39m\u001B[38;5;124mAt least one of TensorFlow 2.0 or PyTorch should be installed. \u001B[39m\u001B[38;5;124m\"\u001B[39m\n\u001B[0;32m    242\u001B[0m         \u001B[38;5;124m\"\u001B[39m\u001B[38;5;124mTo install TensorFlow 2.0, read the instructions at https://www.tensorflow.org/install/ \u001B[39m\u001B[38;5;124m\"\u001B[39m\n\u001B[0;32m    243\u001B[0m         \u001B[38;5;124m\"\u001B[39m\u001B[38;5;124mTo install PyTorch, read the instructions at https://pytorch.org/.\u001B[39m\u001B[38;5;124m\"\u001B[39m\n\u001B[0;32m    244\u001B[0m     )\n\u001B[0;32m    245\u001B[0m \u001B[38;5;28;01mif\u001B[39;00m \u001B[38;5;28misinstance\u001B[39m(model, \u001B[38;5;28mstr\u001B[39m):\n\u001B[0;32m    246\u001B[0m     model_kwargs[\u001B[38;5;124m\"\u001B[39m\u001B[38;5;124m_from_pipeline\u001B[39m\u001B[38;5;124m\"\u001B[39m] \u001B[38;5;241m=\u001B[39m task\n",
      "\u001B[1;31mRuntimeError\u001B[0m: At least one of TensorFlow 2.0 or PyTorch should be installed. To install TensorFlow 2.0, read the instructions at https://www.tensorflow.org/install/ To install PyTorch, read the instructions at https://pytorch.org/."
     ]
    }
   ],
   "execution_count": 7
  },
  {
   "metadata": {
    "ExecuteTime": {
     "end_time": "2025-02-06T19:56:07.611401Z",
     "start_time": "2025-02-06T19:56:07.599433Z"
    }
   },
   "cell_type": "code",
   "source": "sequence =  books.loc[books[\"simple_categories\"]==\"Fiction\",\"description\"].reset_index(drop=True)[0]",
   "id": "9d8cf952ca550e",
   "outputs": [],
   "execution_count": 10
  },
  {
   "metadata": {
    "ExecuteTime": {
     "end_time": "2025-02-06T19:56:04.894017Z",
     "start_time": "2025-02-06T19:56:04.834179Z"
    }
   },
   "cell_type": "code",
   "source": "pipe(sequence, fiction_categories)",
   "id": "1e8e468a2bb5630f",
   "outputs": [
    {
     "ename": "NameError",
     "evalue": "name 'pipe' is not defined",
     "output_type": "error",
     "traceback": [
      "\u001B[1;31m---------------------------------------------------------------------------\u001B[0m",
      "\u001B[1;31mNameError\u001B[0m                                 Traceback (most recent call last)",
      "Cell \u001B[1;32mIn[9], line 1\u001B[0m\n\u001B[1;32m----> 1\u001B[0m \u001B[43mpipe\u001B[49m(sequence, fiction_categories)\n",
      "\u001B[1;31mNameError\u001B[0m: name 'pipe' is not defined"
     ]
    }
   ],
   "execution_count": 9
  },
  {
   "metadata": {},
   "cell_type": "code",
   "outputs": [],
   "execution_count": null,
   "source": [
    "import numpy as np\n",
    "\n",
    "max_index=np.argmax(pipe(sequence, fiction_categories)['scores'])\n",
    "max_label=pipe(sequence, fiction_categories)['labels'][max_index]\n",
    "max_label"
   ],
   "id": "6b3835bdd43ab1d5"
  },
  {
   "metadata": {},
   "cell_type": "code",
   "outputs": [],
   "execution_count": null,
   "source": [
    "def generate_predictions(sequence,categories):\n",
    "    predictions=pipe(sequence, categories)[\"labels\"]\n",
    "    scores=pipe(sequence, categories)[\"scores\"]\n",
    "    return predictions, scores"
   ],
   "id": "97183e9f9f2f9a78"
  },
  {
   "metadata": {},
   "cell_type": "code",
   "outputs": [],
   "execution_count": null,
   "source": [
    "from tqdm import tqdm\n",
    "\n",
    "actual_cats=[]\n",
    "predicted_cats=[]\n",
    "\n",
    "for i in tqdm(range(0,300)):\n",
    "    sequence=books.loc[books[\"simple_categories\"]==\"Fiction\",\"description\"].reset_index(drop=True)[i]\n",
    "    predicted_cats += generate_predictions(sequence,fiction_categories)\n",
    "    actual_cats += [\"Fiction\"]"
   ],
   "id": "d75aea38da3ce9f8"
  },
  {
   "metadata": {},
   "cell_type": "code",
   "outputs": [],
   "execution_count": null,
   "source": [
    "for i in tqdm(range(0,300)):\n",
    "    sequence=books.loc[books[\"simple_categories\"]==\"Nonfiction\",\"description\"].reset_index(drop=True)[i]\n",
    "    predicted_cats += generate_predictions(sequence,fiction_categories)\n",
    "    actual_cats += [\"Nonfiction\"]"
   ],
   "id": "4bc3b902dddadc93"
  },
  {
   "metadata": {},
   "cell_type": "code",
   "outputs": [],
   "execution_count": null,
   "source": "predictions_df= pd.DataFrame({\"actual_categories\":actual_cats,\"predicted_categories\":predicted_cats})",
   "id": "e554d00b715fcb98"
  },
  {
   "metadata": {},
   "cell_type": "code",
   "outputs": [],
   "execution_count": null,
   "source": "predictions_df",
   "id": "1904d517005e3783"
  },
  {
   "metadata": {},
   "cell_type": "code",
   "outputs": [],
   "execution_count": null,
   "source": [
    "predictions_df[\"correct_predictions\"]= (\n",
    "    np.where(predictions_df[\"actual_categories\"]==predictions_df[\"predicted_categories\"],1,0)\n",
    "\n",
    ")"
   ],
   "id": "1fec0e83acc617c8"
  },
  {
   "metadata": {},
   "cell_type": "code",
   "outputs": [],
   "execution_count": null,
   "source": "predictions_df[\"correct_predictions\"].sum()/len(predictions_df)",
   "id": "257a315c88aac2"
  },
  {
   "metadata": {},
   "cell_type": "code",
   "outputs": [],
   "execution_count": null,
   "source": [
    "isbns=[]\n",
    "prediction_cats=[]\n",
    "\n",
    "missing_cats=books.loc[books[\"simple_categories\"].isna(),[\"isbn13\", \"description\"]].reset_index(drop=True)"
   ],
   "id": "73abf0940b847349"
  },
  {
   "metadata": {},
   "cell_type": "code",
   "outputs": [],
   "execution_count": null,
   "source": [
    "for i in tqdm(range(0,len(missing_cats))):\n",
    "    sequence=missing_cats[\"description\"][i]\n",
    "    predicted_cats += generate_predictions(sequence,fiction_categories)\n",
    "    isbns += [missing_cats[\"isbn13\"][i]]"
   ],
   "id": "92795d7b7dd3c040"
  },
  {
   "metadata": {},
   "cell_type": "code",
   "outputs": [],
   "execution_count": null,
   "source": "missing_predicted_df=pd.DataFrame({\"isbn13\":isbns,\"predicted_categories\":predicted_cats})",
   "id": "64c3dcb2c8da6500"
  },
  {
   "metadata": {},
   "cell_type": "code",
   "outputs": [],
   "execution_count": null,
   "source": "missing_predicted_df",
   "id": "8d5b2a9d78d5c05b"
  },
  {
   "metadata": {},
   "cell_type": "code",
   "outputs": [],
   "execution_count": null,
   "source": [
    "books=pd.merge(books,missing_predicted_df,on=\"isbn13\",how=\"left\")\n",
    "books[\"simple_categories\"]= np.where(books[\"simple_categories\"].isna(),books[\"predicted_categories\"],books[\"simple_categories\"])\n",
    "books=books.drop(columns=[\"predicted_categories\"])"
   ],
   "id": "4609994ae8e47c8e"
  },
  {
   "metadata": {},
   "cell_type": "code",
   "outputs": [],
   "execution_count": null,
   "source": "books.to.csv(\"books_with_categories.csv\", index=\"False\")",
   "id": "48282aee53f363df"
  }
 ],
 "metadata": {
  "kernelspec": {
   "display_name": "Python 3",
   "language": "python",
   "name": "python3"
  },
  "language_info": {
   "codemirror_mode": {
    "name": "ipython",
    "version": 2
   },
   "file_extension": ".py",
   "mimetype": "text/x-python",
   "name": "python",
   "nbconvert_exporter": "python",
   "pygments_lexer": "ipython2",
   "version": "2.7.6"
  }
 },
 "nbformat": 4,
 "nbformat_minor": 5
}
