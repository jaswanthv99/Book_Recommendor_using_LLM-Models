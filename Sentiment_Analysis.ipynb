{
 "cells": [
  {
   "cell_type": "code",
   "execution_count": null,
   "id": "initial_id",
   "metadata": {
    "collapsed": true
   },
   "outputs": [],
   "source": [
    "import pandas as pd\n",
    "books=pd.read_csv('books_with_categories.csv')"
   ]
  },
  {
   "metadata": {},
   "cell_type": "code",
   "outputs": [],
   "execution_count": null,
   "source": [
    "from transformers import pipeline\n",
    "classifier = pipeline(\"text-classification\", model=\"j-hartmann/emotion-english-distilroberta-base\", top_k=None)\n",
    "classifier(\"I love this!\")"
   ],
   "id": "5a55d14f43f257e5"
  },
  {
   "metadata": {},
   "cell_type": "code",
   "outputs": [],
   "execution_count": null,
   "source": [
    "sentences = books['description'][0].split(\".\")\n",
    "predictions= classifier(sentences)"
   ],
   "id": "2b4aa5f2291eb28d"
  },
  {
   "metadata": {},
   "cell_type": "code",
   "outputs": [],
   "execution_count": null,
   "source": "sorted(predictions[0], key=lambda x: x['label'])",
   "id": "3e0ddbdf38f1fe6a"
  },
  {
   "metadata": {},
   "cell_type": "code",
   "outputs": [],
   "execution_count": null,
   "source": [
    "import numpy as np\n",
    "\n",
    "emotion_labels=['anger','disgust','fear','joy','sadness',\"surprise\",\"neutral\"]\n",
    "isbn=[]\n",
    "emotion_scores={label:[] for label in emotion_labels}\n",
    "\n",
    "def calculate_max_emotion_scores(predictions):\n",
    "    per_emotion_scores={label:[] for label in emotion_labels}\n",
    "    for prediction in predictions:\n",
    "        sorted_predictions=sorted(prediction, key=lambda x: x['label'])\n",
    "        for index, label in enumerate(emotion_labels):\n",
    "            per_emotion_scores[label].append(sorted_predictions[index]['score'])\n",
    "\n",
    "    return {label: np.max(scores) for label, scores in per_emotion_scores.items()}\n"
   ],
   "id": "48217cacdee17a02"
  },
  {
   "metadata": {},
   "cell_type": "code",
   "outputs": [],
   "execution_count": null,
   "source": [
    "for i in range(10):\n",
    "    isbn.append(books['isbn13'][i])\n",
    "    sentences = books['description'][i].split(\".\")\n",
    "    predictions= classifier(sentences)\n",
    "    max_scores=calculate_max_emotion_scores(predictions)\n",
    "    for label in emotion_labels:\n",
    "        emotion_scores[label].append(max_scores[label])"
   ],
   "id": "70d8497394b848fe"
  },
  {
   "metadata": {},
   "cell_type": "code",
   "outputs": [],
   "execution_count": null,
   "source": "emotion_scores",
   "id": "9ccbfecd275d7350"
  },
  {
   "metadata": {},
   "cell_type": "code",
   "outputs": [],
   "execution_count": null,
   "source": [
    "from tqdm import tqdm\n",
    "\n",
    "emotion_labels=['anger','disgust','fear','joy','sadness',\"surprise\",\"neutral\"]\n",
    "isbn=[]\n",
    "emotion_scores={label:[] for label in emotion_labels}\n",
    "\n",
    "for i in tqdm(range(len(books))):\n",
    "    isbn.append(books['isbn13'][i])\n",
    "    sentences = books['description'][i].split(\".\")\n",
    "    predictions= classifier(sentences)\n",
    "    max_scores=calculate_max_emotion_scores(predictions)\n",
    "    for label in emotion_labels:\n",
    "        emotion_scores[label].append(max_scores[label])"
   ],
   "id": "fd135da7f39cddbb"
  },
  {
   "metadata": {},
   "cell_type": "code",
   "outputs": [],
   "execution_count": null,
   "source": [
    "emotions_df=pd.DataFrame(emotion_scores)\n",
    "emotions_df[\"isbn13\"]=isbn"
   ],
   "id": "81ae7943df86b062"
  },
  {
   "metadata": {},
   "cell_type": "code",
   "outputs": [],
   "execution_count": null,
   "source": "books=pd.merge(books, emotions_df, on=\"isbn13\")",
   "id": "7c1c3484d125ca6c"
  },
  {
   "metadata": {},
   "cell_type": "code",
   "outputs": [],
   "execution_count": null,
   "source": "books",
   "id": "3596051f43fab844"
  },
  {
   "metadata": {},
   "cell_type": "code",
   "outputs": [],
   "execution_count": null,
   "source": "books.to_csv(\"books_with_emotions.csv\", index=False)",
   "id": "c9ccfa53140e31e6"
  }
 ],
 "metadata": {
  "kernelspec": {
   "display_name": "Python 3",
   "language": "python",
   "name": "python3"
  },
  "language_info": {
   "codemirror_mode": {
    "name": "ipython",
    "version": 2
   },
   "file_extension": ".py",
   "mimetype": "text/x-python",
   "name": "python",
   "nbconvert_exporter": "python",
   "pygments_lexer": "ipython2",
   "version": "2.7.6"
  }
 },
 "nbformat": 4,
 "nbformat_minor": 5
}
